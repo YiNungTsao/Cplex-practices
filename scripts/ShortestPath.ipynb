{
 "cells": [
  {
   "cell_type": "code",
   "execution_count": 1,
   "id": "6db084cc-a464-44fb-aade-24d8035d9b16",
   "metadata": {},
   "outputs": [],
   "source": [
    "import sys\n",
    "import math \n",
    "import random\n",
    "import pyscipopt"
   ]
  },
  {
   "cell_type": "code",
   "execution_count": 2,
   "id": "3068fd95-be19-4610-9c78-f4c4580d3de0",
   "metadata": {},
   "outputs": [],
   "source": [
    "n = range(5)\n",
    "last_n = n[len(n)-1]\n",
    "d = {}\n",
    "for i in n:\n",
    "    for j in n:\n",
    "        d[i,j]=0\n",
    "d[0,1] = 5\n",
    "d[0,2] = 4\n",
    "d[0,3] = 7\n",
    "d[2,3] = 2\n",
    "d[1,3] = 3\n",
    "d[1,4] = 7\n",
    "d[3,4] = 2"
   ]
  },
  {
   "cell_type": "code",
   "execution_count": 3,
   "id": "5b768945-a070-49da-9f6c-a97a4441957a",
   "metadata": {},
   "outputs": [],
   "source": [
    "model = pyscipopt.Model(\"ShortestPath\")\n",
    "\n",
    "# Create variables\n",
    "x = {}\n",
    "for i in n:\n",
    "    for j in n:\n",
    "        x[i,j] = model.addVar(lb=0, ub=None, vtype=\"C\", name=\"x(%s,%s)\"%(i,j))\n",
    "\n",
    "# Create objective function\n",
    "model.setObjective(pyscipopt.quicksum(d[i,j]*x[i,j] for i in n for j in n), sense=\"minimize\")"
   ]
  },
  {
   "cell_type": "code",
   "execution_count": 4,
   "id": "2ab11331-94a7-4c0e-8cbd-0c3ef7e33123",
   "metadata": {},
   "outputs": [],
   "source": [
    "# Create constraints\n",
    "# Flow balance constraints\n",
    "for k in n:\n",
    "    if k == 0:\n",
    "        model.addCons(pyscipopt.quicksum(x[i,k] for i in n if d[i,k] != 0) \n",
    "                    - pyscipopt.quicksum(x[k,j] for j in n if d[k,j] != 0) == -1 )\n",
    "    elif k != last_n:\n",
    "        model.addCons(pyscipopt.quicksum(x[i,k] for i in n if d[i,k] != 0) \n",
    "                      == pyscipopt.quicksum(x[k,j] for j in n if d[k,j] != 0))\n",
    "    elif k == last_n:\n",
    "        model.addCons(pyscipopt.quicksum(x[i,k] for i in n if d[i,k] != 0) \n",
    "                     - pyscipopt.quicksum(x[k,j] for j in n if d[k,j] != 0) == 1)\n",
    "    "
   ]
  },
  {
   "cell_type": "code",
   "execution_count": 5,
   "id": "506de22c-0034-4582-958e-3d6ada5aca3f",
   "metadata": {},
   "outputs": [
    {
     "name": "stdout",
     "output_type": "stream",
     "text": [
      "wrote problem to file C:\\Users\\t1043\\shortest_path.lp\n",
      "Solution status: optimal\n",
      "optimal\n",
      "x(0,0) = -0.0\n",
      "x(0,1) = 0.0\n",
      "x(0,2) = 1.0\n",
      "x(0,3) = 0.0\n",
      "x(0,4) = -0.0\n",
      "x(1,0) = -0.0\n",
      "x(1,1) = -0.0\n",
      "x(1,2) = -0.0\n",
      "x(1,3) = 0.0\n",
      "x(1,4) = 0.0\n",
      "x(2,0) = -0.0\n",
      "x(2,1) = -0.0\n",
      "x(2,2) = -0.0\n",
      "x(2,3) = 1.0\n",
      "x(2,4) = -0.0\n",
      "x(3,0) = -0.0\n",
      "x(3,1) = -0.0\n",
      "x(3,2) = -0.0\n",
      "x(3,3) = -0.0\n",
      "x(3,4) = 1.0\n",
      "x(4,0) = -0.0\n",
      "x(4,1) = -0.0\n",
      "x(4,2) = -0.0\n",
      "x(4,3) = -0.0\n",
      "x(4,4) = -0.0\n"
     ]
    }
   ],
   "source": [
    "model.writeProblem(filename=\"shortest_path.lp\")\n",
    "model.optimize()\n",
    "status = model.getStatus()\n",
    "print(f\"Solution status: {status}\")\n",
    "if status == \"optimal\":\n",
    "    print(status)\n",
    "    for i in n:\n",
    "        for j in n:\n",
    "            print(f\"{x[i,j]} = {model.getVal(x[i,j])}\")"
   ]
  }
 ],
 "metadata": {
  "kernelspec": {
   "display_name": "Python 3 (ipykernel)",
   "language": "python",
   "name": "python3"
  },
  "language_info": {
   "codemirror_mode": {
    "name": "ipython",
    "version": 3
   },
   "file_extension": ".py",
   "mimetype": "text/x-python",
   "name": "python",
   "nbconvert_exporter": "python",
   "pygments_lexer": "ipython3",
   "version": "3.9.13"
  }
 },
 "nbformat": 4,
 "nbformat_minor": 5
}

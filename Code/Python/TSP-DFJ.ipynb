{
 "cells": [
  {
   "cell_type": "code",
   "execution_count": 1,
   "id": "aef4e250",
   "metadata": {},
   "outputs": [],
   "source": [
    "import pyscipopt\n",
    "import itertools"
   ]
  },
  {
   "cell_type": "code",
   "execution_count": 8,
   "id": "20751090",
   "metadata": {},
   "outputs": [],
   "source": [
    "n = 17\n",
    "cities = list(range(n))\n",
    "\n",
    "distance_matrix = [\n",
    " [9999, 3, 5, 48, 48, 8, 8, 5, 5, 3, 3, 0, 3, 5, 8, 8, 5],\n",
    " [3, 9999, 3, 48, 48, 8, 8, 5, 5, 0, 0, 3, 0, 3, 8, 8, 5],\n",
    " [5, 3, 9999, 72, 72, 48, 48, 24, 24, 3, 3, 5, 3, 0, 48, 48, 24],\n",
    " [48, 48, 74, 9999, 0, 6, 6, 12, 12, 48, 48, 48, 48, 74, 6, 6, 12],\n",
    " [48, 48, 74, 0, 9999, 6, 6, 12, 12, 48, 48, 48, 48, 74, 6, 6, 12],\n",
    " [8, 8, 50, 6, 6, 9999, 0, 8, 8, 8, 8, 8, 8, 50, 0, 0, 8],\n",
    " [8, 8, 50, 6, 6, 0, 9999, 8, 8, 8, 8, 8, 8, 50, 0, 0, 8],\n",
    " [5, 5, 26, 12, 12, 8, 8, 9999, 0, 5, 5, 5, 5, 26, 8, 8, 0],\n",
    " [5, 5, 26, 12, 12, 8, 8, 0, 9999, 5, 5, 5, 5, 26, 8, 8, 0],\n",
    " [3, 0, 3, 48, 48, 8, 8, 5, 5, 9999, 0, 3, 0, 3, 8, 8, 5],\n",
    " [3, 0, 3, 48, 48, 8, 8, 5, 5, 0, 9999, 3, 0, 3, 8, 8, 5],\n",
    " [0, 3, 5, 48, 48, 8, 8, 5, 5, 3, 3, 9999, 3, 5, 8, 8, 5],\n",
    " [3, 0, 3, 48, 48, 8, 8, 5, 5, 0, 0, 3, 9999, 3, 8, 8, 5],\n",
    " [5, 3, 0, 72, 72, 48, 48, 24, 24, 3, 3, 5, 3, 9999, 48, 48, 24],\n",
    " [8, 8, 50, 6, 6, 0, 0, 8, 8, 8, 8, 8, 8, 50, 9999, 0, 8],\n",
    " [8, 8, 50, 6, 6, 0, 0, 8, 8, 8, 8, 8, 8, 50, 0, 9999, 8],\n",
    " [5, 5, 26, 12, 12, 8, 8, 0, 0, 5, 5, 5, 5, 26, 8, 8, 9999]\n",
    "]"
   ]
  },
  {
   "cell_type": "code",
   "execution_count": 9,
   "id": "bf01a780",
   "metadata": {},
   "outputs": [],
   "source": [
    "model = pyscipopt.Model(\"TSP\")\n",
    "\n",
    "# Create variables\n",
    "x = {}\n",
    "for i in range(n):\n",
    "    for j in range(n):\n",
    "        if i == j:\n",
    "            x[i,j] = model.addVar(lb=0, ub=0, vtype=\"B\", name=\"x(%s,%s)\"%(i,j))\n",
    "        else:\n",
    "            x[i,j] = model.addVar(lb=0, ub=1, vtype=\"B\", name=\"x(%s,%s)\"%(i,j))\n",
    "\n",
    "# Create objective function\n",
    "model.setObjective(pyscipopt.quicksum(distance_matrix[i][j]*x[i,j] for i in range(n) for j in range(n)), sense=\"minimize\")"
   ]
  },
  {
   "cell_type": "code",
   "execution_count": 10,
   "id": "870a703c",
   "metadata": {},
   "outputs": [],
   "source": [
    "def Combination(n:int):\n",
    "    Q = []\n",
    "    \n",
    "    for i in range(2, n):\n",
    "        Q.append(list(itertools.combinations(cities, i)))\n",
    "    \n",
    "    result = []\n",
    "    for i in Q:\n",
    "        for j in i:\n",
    "            result.append(list(j))\n",
    "    \n",
    "    return result"
   ]
  },
  {
   "cell_type": "code",
   "execution_count": 11,
   "id": "a6fa1dbb",
   "metadata": {},
   "outputs": [
    {
     "name": "stdout",
     "output_type": "stream",
     "text": [
      "56\n",
      "[[0, 1], [0, 2], [0, 3], [0, 4], [0, 5], [1, 2], [1, 3], [1, 4], [1, 5], [2, 3], [2, 4], [2, 5], [3, 4], [3, 5], [4, 5], [0, 1, 2], [0, 1, 3], [0, 1, 4], [0, 1, 5], [0, 2, 3], [0, 2, 4], [0, 2, 5], [0, 3, 4], [0, 3, 5], [0, 4, 5], [1, 2, 3], [1, 2, 4], [1, 2, 5], [1, 3, 4], [1, 3, 5], [1, 4, 5], [2, 3, 4], [2, 3, 5], [2, 4, 5], [3, 4, 5], [0, 1, 2, 3], [0, 1, 2, 4], [0, 1, 2, 5], [0, 1, 3, 4], [0, 1, 3, 5], [0, 1, 4, 5], [0, 2, 3, 4], [0, 2, 3, 5], [0, 2, 4, 5], [0, 3, 4, 5], [1, 2, 3, 4], [1, 2, 3, 5], [1, 2, 4, 5], [1, 3, 4, 5], [2, 3, 4, 5], [0, 1, 2, 3, 4], [0, 1, 2, 3, 5], [0, 1, 2, 4, 5], [0, 1, 3, 4, 5], [0, 2, 3, 4, 5], [1, 2, 3, 4, 5]]\n"
     ]
    }
   ],
   "source": [
    "# Create constraints\n",
    "# Assignment constraints 1\n",
    "for i in range(n):\n",
    "    model.addCons(pyscipopt.quicksum(x[i,j] for j in range(n)) == 1)\n",
    "\n",
    "# Assignment constraints 2\n",
    "for j in range(n):\n",
    "    model.addCons(pyscipopt.quicksum(x[i,j] for i in range(n)) == 1)\n",
    "\n",
    "# Subtour-Elimination constraints (DFJ formulation)\n",
    "Q = Combination(n)\n",
    "\n",
    "print(len(Q))\n",
    "print(Q)\n",
    "\n",
    "for each_q in Q:\n",
    "    model.addCons(pyscipopt.quicksum(x[i,j]for i in each_q for j in each_q if i != j) <= len(each_q)-1)\n"
   ]
  },
  {
   "cell_type": "code",
   "execution_count": 13,
   "id": "842b2ba1",
   "metadata": {},
   "outputs": [
    {
     "name": "stdout",
     "output_type": "stream",
     "text": [
      "wrote problem to file /home/ytsao/code/Optimization-models/Code/Python/TSP-DFJ.lp\n",
      "Solution status: optimal\n",
      "Objective value = 117.0\n",
      "x(0,3) = 1.0\n",
      "x(1,2) = 1.0\n",
      "x(2,0) = 1.0\n",
      "x(3,4) = 1.0\n",
      "x(4,5) = 1.0\n",
      "x(5,1) = 1.0\n"
     ]
    }
   ],
   "source": [
    "model.writeProblem(\"TSP-DFJ.lp\")\n",
    "model.optimize()\n",
    "status = model.getStatus()\n",
    "print(f\"Solution status: {status}\")\n",
    "if status == \"optimal\":\n",
    "    print(f\"Objective value = {model.getObjVal()}\")\n",
    "    for i in range(n):\n",
    "        for j in range(n):\n",
    "            if model.getVal(x[i,j]) > 0:\n",
    "                print(f\"{x[i,j]} = {model.getVal(x[i,j])}\")"
   ]
  },
  {
   "cell_type": "code",
   "execution_count": null,
   "id": "0c1390f9",
   "metadata": {},
   "outputs": [],
   "source": []
  }
 ],
 "metadata": {
  "kernelspec": {
   "display_name": "Python 3 (ipykernel)",
   "language": "python",
   "name": "python3"
  },
  "language_info": {
   "codemirror_mode": {
    "name": "ipython",
    "version": 3
   },
   "file_extension": ".py",
   "mimetype": "text/x-python",
   "name": "python",
   "nbconvert_exporter": "python",
   "pygments_lexer": "ipython3",
   "version": "3.8.10"
  }
 },
 "nbformat": 4,
 "nbformat_minor": 5
}

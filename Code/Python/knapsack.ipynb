{
 "cells": [
  {
   "cell_type": "code",
   "execution_count": 1,
   "id": "eefe2892-bcd2-4dfb-8c13-ec6f8cbfb3e2",
   "metadata": {},
   "outputs": [],
   "source": [
    "import math \n",
    "import random\n",
    "import pyscipopt"
   ]
  },
  {
   "cell_type": "code",
   "execution_count": 2,
   "id": "e7e17487-f805-480a-973f-b6999ac034c3",
   "metadata": {},
   "outputs": [],
   "source": [
    "n = range(3)\n",
    "W = 4\n",
    "\n",
    "p = {0:1, 1:2, 2:3}\n",
    "w = {0:4, 1:5, 2:1}"
   ]
  },
  {
   "cell_type": "code",
   "execution_count": 3,
   "id": "72334298-7fe1-4921-961c-cc90fe1f14b1",
   "metadata": {},
   "outputs": [],
   "source": [
    "model = pyscipopt.Model(\"Knapsack\")\n",
    "\n",
    "# Create variables\n",
    "x = {}\n",
    "for i in n:\n",
    "    x[i] = model.addVar(lb=0, ub=1, vtype=\"B\", name=\"x(%s)\"%i)\n",
    "\n",
    "# Objective function\n",
    "model.setObjective(pyscipopt.quicksum(p[i]*x[i] for i in n), sense=\"maximize\")"
   ]
  },
  {
   "cell_type": "code",
   "execution_count": 4,
   "id": "5b7243a1-f7a8-4b49-8d08-46e67f604517",
   "metadata": {},
   "outputs": [
    {
     "data": {
      "text/plain": [
       "c1"
      ]
     },
     "execution_count": 4,
     "metadata": {},
     "output_type": "execute_result"
    }
   ],
   "source": [
    "# Create constraints\n",
    "# wx <= W\n",
    "model.addCons(pyscipopt.quicksum(w[i]*x[i] for i in n) <= W)"
   ]
  },
  {
   "cell_type": "code",
   "execution_count": 5,
   "id": "0e1fa3eb-31e1-4606-af8c-2dfb3d0af891",
   "metadata": {},
   "outputs": [
    {
     "name": "stdout",
     "output_type": "stream",
     "text": [
      "wrote problem to file C:\\Users\\t1043\\knapsack.lp\n",
      "optimal\n",
      "x(0) = 0.0\n",
      "x(1) = 0.0\n",
      "x(2) = 1.0\n"
     ]
    }
   ],
   "source": [
    "model.writeProblem(filename=\"knapsack.lp\")\n",
    "model.optimize()\n",
    "status = model.getStatus()\n",
    "\n",
    "if status == \"optimal\":\n",
    "    print(model.getStatus())\n",
    "    for i in n:\n",
    "        print(f\"{x[i]} = {model.getVal(x[i])}\")"
   ]
  }
 ],
 "metadata": {
  "kernelspec": {
   "display_name": "Python 3 (ipykernel)",
   "language": "python",
   "name": "python3"
  },
  "language_info": {
   "codemirror_mode": {
    "name": "ipython",
    "version": 3
   },
   "file_extension": ".py",
   "mimetype": "text/x-python",
   "name": "python",
   "nbconvert_exporter": "python",
   "pygments_lexer": "ipython3",
   "version": "3.9.13"
  }
 },
 "nbformat": 4,
 "nbformat_minor": 5
}

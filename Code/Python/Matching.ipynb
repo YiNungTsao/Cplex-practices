{
 "cells": [
  {
   "cell_type": "code",
   "execution_count": 2,
   "metadata": {},
   "outputs": [],
   "source": [
    "from pyscipopt import Model, quicksum"
   ]
  },
  {
   "cell_type": "code",
   "execution_count": 31,
   "metadata": {},
   "outputs": [],
   "source": [
    "# create model - perfect matching\n",
    "model = Model(\"Matching Problem\")\n",
    "\n",
    "# parameters for matching problem\n",
    "workers = ['W1', 'W2', 'W3', 'W4']\n",
    "jobs = ['J1', 'J2', 'J3', 'J4']\n",
    "\n",
    "bipartite_graph = [['W1','J1'],\n",
    "                   ['W2','J1'],\n",
    "                   ['W2','J2'],\n",
    "                   ['W3','J3'],\n",
    "                   ['W3','J4'],\n",
    "                   ['W4','J1'],\n",
    "                   ['W4','J2'],\n",
    "                   ['W4','J4']]\n",
    "\n",
    "# create decision variables\n",
    "x = {}\n",
    "for wid, wvalue in enumerate(workers):\n",
    "    for jid, jvalue in enumerate(jobs):\n",
    "        if [wvalue, jvalue] in bipartite_graph:\n",
    "            x[wid, jid] = model.addVar(lb=0, ub=1, vtype=\"B\", name=\"x(%s,%s)\"%(wid,jid))"
   ]
  },
  {
   "cell_type": "code",
   "execution_count": 32,
   "metadata": {},
   "outputs": [],
   "source": [
    "# create objective function\n",
    "model.setObjective(quicksum(x[i,j]for i, ivalue in enumerate(workers) for j, jvalue in enumerate(jobs) if [ivalue,jvalue] in bipartite_graph), sense='minimize')\n",
    "\n",
    "# create assignment constraints1 (one worker assigned one job)\n",
    "for wid, wvalue in enumerate(workers):\n",
    "    model.addCons(quicksum(x[wid,jid] for jid, jvalue in enumerate(jobs) if [wvalue,jvalue] in bipartite_graph) == 1)\n",
    "\n",
    "# create assignment constraints2 (each job at least assigned to one worker)\n",
    "for jid, jvalue in enumerate(jobs):\n",
    "    model.addCons(quicksum(x[wid,jid] for wid, wvalue in enumerate(workers) if [wvalue,jvalue] in bipartite_graph) >= 1)"
   ]
  },
  {
   "cell_type": "code",
   "execution_count": 33,
   "metadata": {},
   "outputs": [
    {
     "name": "stdout",
     "output_type": "stream",
     "text": [
      "x(0,0) = 1.0\n",
      "x(1,1) = 1.0\n",
      "x(2,2) = 1.0\n",
      "x(3,3) = 1.0\n",
      "presolving:\n",
      "(round 1, fast)       8 del vars, 7 del conss, 0 add conss, 3 chg bounds, 0 chg sides, 0 chg coeffs, 0 upgd conss, 0 impls, 0 clqs\n",
      "presolving (2 rounds: 2 fast, 1 medium, 1 exhaustive):\n",
      " 10 deleted vars, 8 deleted constraints, 0 added constraints, 3 tightened bounds, 0 added holes, 0 changed sides, 0 changed coefficients\n",
      " 0 implications, 0 cliques\n",
      "transformed 1/1 original solutions to the transformed problem space\n",
      "Presolving Time: 0.00\n",
      "\n",
      "SCIP Status        : problem is solved [optimal solution found]\n",
      "Solving Time (sec) : 0.00\n",
      "Solving Nodes      : 0\n",
      "Primal Bound       : +4.00000000000000e+00 (1 solutions)\n",
      "Dual Bound         : +4.00000000000000e+00\n",
      "Gap                : 0.00 %\n"
     ]
    }
   ],
   "source": [
    "model.optimize()\n",
    "status = model.getStatus()\n",
    "if status == \"optimal\":\n",
    "    for wid, wvalue in enumerate(workers):\n",
    "        for jid, jvalue in enumerate(jobs):\n",
    "            if [wvalue,jvalue] in bipartite_graph and model.getVal(x[wid,jid]) > 0:\n",
    "                print(f\"{x[wid,jid]} = {model.getVal(x[wid,jid])}\")"
   ]
  }
 ],
 "metadata": {
  "kernelspec": {
   "display_name": "Python 3",
   "language": "python",
   "name": "python3"
  },
  "language_info": {
   "codemirror_mode": {
    "name": "ipython",
    "version": 3
   },
   "file_extension": ".py",
   "mimetype": "text/x-python",
   "name": "python",
   "nbconvert_exporter": "python",
   "pygments_lexer": "ipython3",
   "version": "3.8.10"
  },
  "orig_nbformat": 4
 },
 "nbformat": 4,
 "nbformat_minor": 2
}

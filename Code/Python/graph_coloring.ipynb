{
 "cells": [
  {
   "cell_type": "code",
   "execution_count": 2,
   "metadata": {},
   "outputs": [],
   "source": [
    "from pyscipopt import Model, quicksum"
   ]
  },
  {
   "cell_type": "code",
   "execution_count": 18,
   "metadata": {},
   "outputs": [],
   "source": [
    "model = Model(\"Graph Coloring Problem\")\n",
    "\n",
    "# parameters\n",
    "colors = ['red', 'green', 'blue', 'orange', 'yellow']\n",
    "num_nodes = 5\n",
    "adjacency_matrix = [[0, 5, 2, 0, 0],\n",
    "                    [5, 0, 0, 2, 4],\n",
    "                    [2, 0, 0, 0, 10],\n",
    "                    [0, 2, 0, 0, 1],\n",
    "                    [0, 4, 10, 1, 0]]\n",
    "\n",
    "# create decision variables\n",
    "x = {}\n",
    "for i in range(num_nodes):\n",
    "    for jid, jvalue in enumerate(colors):\n",
    "        x[i,jid] = model.addVar(lb=0, ub=1, vtype=\"B\", name=\"x(%s,%s)\"%(i,jvalue))"
   ]
  },
  {
   "cell_type": "code",
   "execution_count": 19,
   "metadata": {},
   "outputs": [],
   "source": [
    "# create objective function\n",
    "model.setObjective(quicksum(x[i,jid] for i in range(num_nodes) for jid, jvalue in enumerate(colors)), sense=\"minimize\")\n",
    "\n",
    "# create constraints 1\n",
    "for color_id, color_value in enumerate(colors):\n",
    "    for i in range(num_nodes):\n",
    "        for j in range(num_nodes):\n",
    "            if adjacency_matrix[i][j] != 0:\n",
    "                model.addCons(x[i,color_id] + x[j,color_id] <= 1)\n",
    "\n",
    "# create constraint 2\n",
    "for i in range(num_nodes):\n",
    "    model.addCons(quicksum(x[i,jid] for jid, jvalue in enumerate(colors)) >= 1)"
   ]
  },
  {
   "cell_type": "code",
   "execution_count": 20,
   "metadata": {},
   "outputs": [
    {
     "name": "stdout",
     "output_type": "stream",
     "text": [
      "wrote problem to file /home/ytsao/code/Optimization-models/Code/Python/graph_color.lp\n",
      "x(0,orange) = 1.0\n",
      "x(1,yellow) = 1.0\n",
      "x(2,yellow) = 1.0\n",
      "x(3,orange) = 1.0\n",
      "x(4,blue) = 1.0\n",
      "presolving:\n",
      "   (0.0s) running MILP presolver\n",
      "   (0.0s) MILP presolver (2 rounds): 0 aggregations, 0 fixings, 0 bound changes\n",
      "(round 1, medium)     0 del vars, 65 del conss, 35 add conss, 0 chg bounds, 0 chg sides, 0 chg coeffs, 0 upgd conss, 0 impls, 30 clqs\n",
      "(round 2, exhaustive) 0 del vars, 65 del conss, 35 add conss, 0 chg bounds, 0 chg sides, 0 chg coeffs, 35 upgd conss, 0 impls, 30 clqs\n",
      "   (0.0s) probing cycle finished: starting next cycle\n",
      "   (0.0s) symmetry computation started: requiring (bin +, int -, cont +), (fixed: bin -, int +, cont -)\n",
      "   (0.0s) symmetry computation finished: 5 generators found (max: 1500, log10 of symmetry group size: 2.4)\n",
      "presolving (3 rounds: 3 fast, 3 medium, 2 exhaustive):\n",
      " 0 deleted vars, 65 deleted constraints, 35 added constraints, 0 tightened bounds, 0 added holes, 0 changed sides, 0 changed coefficients\n",
      " 0 implications, 30 cliques\n",
      "presolved problem has 25 variables (25 bin, 0 int, 0 impl, 0 cont) and 35 constraints\n",
      "     30 constraints of type <setppc>\n",
      "      5 constraints of type <logicor>\n",
      "transformed objective value is always integral (scale: 1)\n",
      "Presolving Time: 0.00\n",
      "\n",
      " time | node  | left  |LP iter|LP it/n|mem/heur|mdpt |vars |cons |rows |cuts |sepa|confs|strbr|  dualbound   | primalbound  |  gap   | compl. \n",
      "p 0.0s|     1 |     0 |     0 |     - |  clique|   0 |  25 |  35 |  35 |   0 |  0 |   0 |   0 | 0.000000e+00 | 1.000000e+01 |    Inf | unknown\n",
      "p 0.0s|     1 |     0 |     0 |     - | vbounds|   0 |  25 |  35 |  35 |   0 |  0 |   0 |   0 | 0.000000e+00 | 5.000000e+00 |    Inf | unknown\n",
      "  0.0s|     1 |     0 |     5 |     - |  1331k |   0 |  25 |  37 |  35 |   0 |  0 |   5 |   0 | 5.000000e+00 | 5.000000e+00 |   0.00%| unknown\n",
      "\n",
      "SCIP Status        : problem is solved [optimal solution found]\n",
      "Solving Time (sec) : 0.00\n",
      "Solving Nodes      : 1\n",
      "Primal Bound       : +5.00000000000000e+00 (2 solutions)\n",
      "Dual Bound         : +5.00000000000000e+00\n",
      "Gap                : 0.00 %\n"
     ]
    }
   ],
   "source": [
    "model.writeProblem(\"graph_color.lp\")\n",
    "model.optimize()\n",
    "status = model.getStatus()\n",
    "if status == \"optimal\":\n",
    "    for i in range(num_nodes):\n",
    "        for jid, jvalue in enumerate(colors):\n",
    "            if model.getVal(x[i,jid]):\n",
    "                print(f\"{x[i,jid]} = {model.getVal(x[i,jid])}\")"
   ]
  }
 ],
 "metadata": {
  "kernelspec": {
   "display_name": "Python 3",
   "language": "python",
   "name": "python3"
  },
  "language_info": {
   "codemirror_mode": {
    "name": "ipython",
    "version": 3
   },
   "file_extension": ".py",
   "mimetype": "text/x-python",
   "name": "python",
   "nbconvert_exporter": "python",
   "pygments_lexer": "ipython3",
   "version": "3.8.10"
  },
  "orig_nbformat": 4
 },
 "nbformat": 4,
 "nbformat_minor": 2
}

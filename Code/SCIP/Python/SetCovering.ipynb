{
 "cells": [
  {
   "cell_type": "markdown",
   "metadata": {},
   "source": [
    "# Set conver problem by pyscipopt"
   ]
  },
  {
   "cell_type": "code",
   "execution_count": 1,
   "metadata": {},
   "outputs": [],
   "source": [
    "from pyscipopt import Model, quicksum"
   ]
  },
  {
   "cell_type": "code",
   "execution_count": 2,
   "metadata": {},
   "outputs": [],
   "source": [
    "model = Model(\"Set Cover Problem\")\n",
    "\n",
    "# parameters for set covering problem\n",
    "U = [1, 2, 3]\n",
    "S = [[1, 2],\n",
    "     [2, 3],\n",
    "     [3, 1]]\n",
    "\n",
    "# create decision variables\n",
    "y = {}\n",
    "for id, value in enumerate(S):\n",
    "    y[id] = model.addVar(lb=0, ub=1, vtype=\"B\", name=\"y(%s)\"%(id))"
   ]
  },
  {
   "cell_type": "code",
   "execution_count": 3,
   "metadata": {},
   "outputs": [
    {
     "name": "stdout",
     "output_type": "stream",
     "text": [
      "feasible solution found by trivial heuristic after 0.0 seconds, objective value 3.000000e+00\n",
      "presolving:\n",
      "   (0.0s) running MILP presolver\n",
      "   (0.0s) MILP presolver found nothing\n",
      "(round 1, exhaustive) 0 del vars, 0 del conss, 0 add conss, 0 chg bounds, 0 chg sides, 0 chg coeffs, 3 upgd conss, 0 impls, 3 clqs\n",
      "   (0.0s) probing cycle finished: starting next cycle\n",
      "   (0.0s) symmetry computation started: requiring (bin +, int -, cont +), (fixed: bin -, int +, cont -)\n",
      "   (0.0s) symmetry computation finished: 2 generators found (max: 1500, log10 of symmetry group size: 0.8)\n",
      "(round 2, exhaustive) 0 del vars, 0 del conss, 1 add conss, 0 chg bounds, 0 chg sides, 0 chg coeffs, 3 upgd conss, 0 impls, 3 clqs\n",
      "presolving (3 rounds: 3 fast, 3 medium, 3 exhaustive):\n",
      " 0 deleted vars, 0 deleted constraints, 1 added constraints, 0 tightened bounds, 0 added holes, 0 changed sides, 0 changed coefficients\n",
      " 0 implications, 3 cliques\n",
      "presolved problem has 3 variables (3 bin, 0 int, 0 impl, 0 cont) and 4 constraints\n",
      "      3 constraints of type <setppc>\n",
      "      1 constraints of type <orbitope>\n",
      "transformed objective value is always integral (scale: 1)\n",
      "Presolving Time: 0.00\n",
      "transformed 1/1 original solutions to the transformed problem space\n",
      "\n",
      " time | node  | left  |LP iter|LP it/n|mem/heur|mdpt |vars |cons |rows |cuts |sepa|confs|strbr|  dualbound   | primalbound  |  gap   | compl. \n",
      "p 0.0s|     1 |     0 |     0 |     - |  clique|   0 |   3 |   4 |   3 |   0 |  0 |   0 |   0 | 0.000000e+00 | 2.000000e+00 |    Inf | unknown\n",
      "  0.0s|     1 |     0 |     0 |     - |   634k |   0 |   3 |   2 |   3 |   0 |  0 |   0 |   0 | 2.000000e+00 | 2.000000e+00 |   0.00%| unknown\n",
      "\n",
      "SCIP Status        : problem is solved [optimal solution found]\n",
      "Solving Time (sec) : 0.00\n",
      "Solving Nodes      : 1\n",
      "Primal Bound       : +2.00000000000000e+00 (2 solutions)\n",
      "Dual Bound         : +2.00000000000000e+00\n",
      "Gap                : 0.00 %\n"
     ]
    }
   ],
   "source": [
    "# objective function\n",
    "model.setObjective(quicksum(y[id] for id, value in enumerate(S)), sense=\"minimize\")\n",
    "\n",
    "# constraints 1\n",
    "for e in U:\n",
    "    model.addCons(quicksum(y[id] for id, value in enumerate(S) if value.count(e)) >= 1)        \n",
    "\n",
    "# solve \n",
    "model.optimize()"
   ]
  },
  {
   "cell_type": "code",
   "execution_count": 4,
   "metadata": {},
   "outputs": [
    {
     "name": "stdout",
     "output_type": "stream",
     "text": [
      "wrote problem to file /home/ytsao/code/Optimization-models/Code/Python/setcover.lp\n",
      "Solution status: optimal\n",
      "Objective value = 2.0\n",
      "y(0) = 0.0\n",
      "y(1) = 1.0\n",
      "y(2) = 1.0\n"
     ]
    }
   ],
   "source": [
    "# show the optimal (feasible) solutions\n",
    "model.writeProblem(\"./setcover.lp\")\n",
    "status = model.getStatus()\n",
    "print(f\"Solution status: {status}\")\n",
    "if status == \"optimal\":\n",
    "    print(f\"Objective value = {model.getObjVal()}\")\n",
    "    for id, value in enumerate(S):\n",
    "        print(f\"{y[id]} = {model.getVal(y[id])}\")"
   ]
  }
 ],
 "metadata": {
  "kernelspec": {
   "display_name": "Python 3",
   "language": "python",
   "name": "python3"
  },
  "language_info": {
   "codemirror_mode": {
    "name": "ipython",
    "version": 3
   },
   "file_extension": ".py",
   "mimetype": "text/x-python",
   "name": "python",
   "nbconvert_exporter": "python",
   "pygments_lexer": "ipython3",
   "version": "3.8.10"
  },
  "orig_nbformat": 4
 },
 "nbformat": 4,
 "nbformat_minor": 2
}

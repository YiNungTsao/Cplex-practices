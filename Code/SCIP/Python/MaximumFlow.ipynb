{
 "cells": [
  {
   "cell_type": "code",
   "execution_count": 1,
   "id": "92927c7d",
   "metadata": {},
   "outputs": [],
   "source": [
    "import pyscipopt"
   ]
  },
  {
   "cell_type": "code",
   "execution_count": 2,
   "id": "0b6e418c",
   "metadata": {},
   "outputs": [],
   "source": [
    "n = range(5)\n",
    "last_n = n[len(n)-1]\n",
    "d = {}\n",
    "for i in n:\n",
    "    for j in n:\n",
    "        d[i,j]=0\n",
    "d[0,1] = 20\n",
    "d[0,2] = 30\n",
    "d[0,3] = 10\n",
    "d[1,2] = 40\n",
    "d[1,4] = 30\n",
    "d[2,3] = 10\n",
    "d[2,4] = 20\n",
    "d[3,2] = 5\n",
    "d[3,4] = 20"
   ]
  },
  {
   "cell_type": "code",
   "execution_count": 3,
   "id": "9577080f",
   "metadata": {},
   "outputs": [],
   "source": [
    "model = pyscipopt.Model(\"MaximumFlow\")\n",
    "\n",
    "# Create variables\n",
    "x = {}\n",
    "for i in n:\n",
    "    for j in n:\n",
    "        x[i,j] = model.addVar(lb=0, ub=None, vtype=\"C\", name=\"x(%s,%s)\"%(i,j))\n",
    "\n",
    "# Create objective function\n",
    "model.setObjective(pyscipopt.quicksum(x[i,j] for i in n for j in n), sense=\"maximize\")"
   ]
  },
  {
   "cell_type": "code",
   "execution_count": 4,
   "id": "6023e61b",
   "metadata": {},
   "outputs": [],
   "source": [
    "# Create constraints\n",
    "# Flow balance constraints\n",
    "for k in n:\n",
    "    if k != last_n and k != 0:\n",
    "        model.addCons(pyscipopt.quicksum(x[i,k] for i in n if d[i,k])\n",
    "                     == pyscipopt.quicksum(x[k,j] for j in n if d[k,j] != 0))\n",
    "\n",
    "# Capacity constraints\n",
    "for i in n:\n",
    "    for j in n:\n",
    "        model.addCons(x[i,j]<=d[i,j])"
   ]
  },
  {
   "cell_type": "code",
   "execution_count": 5,
   "id": "49f63ed8",
   "metadata": {},
   "outputs": [
    {
     "name": "stdout",
     "output_type": "stream",
     "text": [
      "wrote problem to file C:\\Users\\t1043\\maximum_flow.lp\n",
      "Solution status: optimal\n",
      "Objective value = 130.0\n",
      "x(0,0) = 0.0\n",
      "x(0,1) = 20.0\n",
      "x(0,2) = 30.0\n",
      "x(0,3) = 10.0\n",
      "x(0,4) = 0.0\n",
      "x(1,0) = 0.0\n",
      "x(1,1) = 0.0\n",
      "x(1,2) = 0.0\n",
      "x(1,3) = 0.0\n",
      "x(1,4) = 20.0\n",
      "x(2,0) = 0.0\n",
      "x(2,1) = 0.0\n",
      "x(2,2) = 0.0\n",
      "x(2,3) = 10.0\n",
      "x(2,4) = 20.0\n",
      "x(3,0) = 0.0\n",
      "x(3,1) = 0.0\n",
      "x(3,2) = 0.0\n",
      "x(3,3) = 0.0\n",
      "x(3,4) = 20.0\n",
      "x(4,0) = 0.0\n",
      "x(4,1) = 0.0\n",
      "x(4,2) = 0.0\n",
      "x(4,3) = 0.0\n",
      "x(4,4) = 0.0\n"
     ]
    }
   ],
   "source": [
    "model.writeProblem(filename=\"maximum_flow.lp\")\n",
    "model.optimize()\n",
    "status = model.getStatus()\n",
    "print(f\"Solution status: {status}\")\n",
    "if status == \"optimal\":\n",
    "    print(f\"Objective value = {model.getObjVal()}\")\n",
    "    for i in n:\n",
    "        for j in n:\n",
    "            print(f\"{x[i,j]} = {model.getVal(x[i,j])}\")"
   ]
  }
 ],
 "metadata": {
  "kernelspec": {
   "display_name": "Python 3 (ipykernel)",
   "language": "python",
   "name": "python3"
  },
  "language_info": {
   "codemirror_mode": {
    "name": "ipython",
    "version": 3
   },
   "file_extension": ".py",
   "mimetype": "text/x-python",
   "name": "python",
   "nbconvert_exporter": "python",
   "pygments_lexer": "ipython3",
   "version": "3.9.13"
  }
 },
 "nbformat": 4,
 "nbformat_minor": 5
}

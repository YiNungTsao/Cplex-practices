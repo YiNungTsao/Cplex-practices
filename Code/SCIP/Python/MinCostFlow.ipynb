{
 "cells": [
  {
   "cell_type": "code",
   "execution_count": 66,
   "id": "c37bbebe",
   "metadata": {},
   "outputs": [],
   "source": [
    "import pyscipopt"
   ]
  },
  {
   "cell_type": "code",
   "execution_count": 67,
   "id": "5fe5e3ae",
   "metadata": {},
   "outputs": [],
   "source": [
    "n = range(5)\n",
    "last_n = n[len(n)-1]\n",
    "\n",
    "# edge\n",
    "e = {}\n",
    "for i in n:\n",
    "    for j in n:\n",
    "        e[i,j]=0\n",
    "\n",
    "e[0,1] = 1\n",
    "e[0,2] = 4\n",
    "e[1,2] = 2\n",
    "e[1,3] = 2\n",
    "e[1,4] = 6\n",
    "e[2,3] = 1\n",
    "e[2,4] = 3\n",
    "e[3,4] = 2\n",
    "e[4,2] = 3\n",
    "        \n",
    "# cost\n",
    "c = {}\n",
    "for i in n:\n",
    "    for j in n:\n",
    "        c[i,j]=0\n",
    "\n",
    "c[0,1] = 4\n",
    "c[0,2] = 4\n",
    "c[1,2] = 2\n",
    "c[1,3] = 2\n",
    "c[1,4] = 6\n",
    "c[2,3] = 1\n",
    "c[2,4] = 3\n",
    "c[3,4] = 2\n",
    "c[4,2] = 3\n",
    "\n",
    "# demand \n",
    "d = {}\n",
    "d[0] = -20\n",
    "d[1] = 0\n",
    "d[2] = 0\n",
    "d[3] = 5\n",
    "d[4] = 15\n",
    "\n",
    "# Capacity\n",
    "f = {}\n",
    "for i in n:\n",
    "    for j in n:\n",
    "        f[i,j]=0 \n",
    "\n",
    "f[0,1] = 15\n",
    "f[0,2] = 8\n",
    "f[1,2] = 20\n",
    "f[1,3] = 4\n",
    "f[1,4] = 10\n",
    "f[2,3] = 15\n",
    "f[2,4] = 4\n",
    "f[3,4] = 20\n",
    "f[4,2] = 5"
   ]
  },
  {
   "cell_type": "code",
   "execution_count": 68,
   "id": "6be54628",
   "metadata": {},
   "outputs": [],
   "source": [
    "model = pyscipopt.Model(\"MinCostFlow\")\n",
    "\n",
    "# Create variables\n",
    "x = {}\n",
    "for i in n:\n",
    "    for j in n:\n",
    "        x[i,j] = model.addVar(lb=0, ub=None, vtype=\"C\", name=\"x(%s,%s)\"%(i,j))\n",
    "\n",
    "# Create objective function\n",
    "model.setObjective(pyscipopt.quicksum(c[i,j]*x[i,j] for i in n for j in n), sense=\"minimize\")"
   ]
  },
  {
   "cell_type": "code",
   "execution_count": 69,
   "id": "b827bd31",
   "metadata": {},
   "outputs": [],
   "source": [
    "# Create constraints\n",
    "# Flow balance constraints\n",
    "for k in n:\n",
    "    model.addCons(pyscipopt.quicksum(x[i,k] for i in n if e[i,k] != 0)\n",
    "                    -pyscipopt.quicksum(x[k,j] for j in n if e[k,j] != 0) == d[k])\n",
    "        \n",
    "    \n",
    "    \n",
    "# Capacity constraints\n",
    "for i in n:\n",
    "    for j in n:\n",
    "        model.addCons(x[i,j]<=f[i,j])"
   ]
  },
  {
   "cell_type": "code",
   "execution_count": 70,
   "id": "5f15c59f",
   "metadata": {},
   "outputs": [
    {
     "name": "stdout",
     "output_type": "stream",
     "text": [
      "wrote problem to file C:\\Users\\t1043\\mincostflow.lp\n",
      "Solution status: optimal\n",
      "Objective value = 150.0\n",
      "x(0,0) = 0.0\n",
      "x(0,1) = 12.0\n",
      "x(0,2) = 8.0\n",
      "x(0,3) = 0.0\n",
      "x(0,4) = 0.0\n",
      "x(1,0) = 0.0\n",
      "x(1,1) = 0.0\n",
      "x(1,2) = 8.0\n",
      "x(1,3) = 4.0\n",
      "x(1,4) = 0.0\n",
      "x(2,0) = 0.0\n",
      "x(2,1) = 0.0\n",
      "x(2,2) = 0.0\n",
      "x(2,3) = 12.0\n",
      "x(2,4) = 4.0\n",
      "x(3,0) = 0.0\n",
      "x(3,1) = 0.0\n",
      "x(3,2) = 0.0\n",
      "x(3,3) = 0.0\n",
      "x(3,4) = 11.0\n",
      "x(4,0) = 0.0\n",
      "x(4,1) = 0.0\n",
      "x(4,2) = 0.0\n",
      "x(4,3) = 0.0\n",
      "x(4,4) = 0.0\n"
     ]
    }
   ],
   "source": [
    "model.writeProblem(filename=\"mincostflow.lp\")\n",
    "\n",
    "\n",
    "model.optimize()\n",
    "status = model.getStatus()\n",
    "print(f\"Solution status: {status}\")\n",
    "if status == \"optimal\":\n",
    "    print(f\"Objective value = {model.getObjVal()}\")\n",
    "    for i in n:\n",
    "        for j in n:\n",
    "            print(f\"{x[i,j]} = {model.getVal(x[i,j])}\")"
   ]
  }
 ],
 "metadata": {
  "kernelspec": {
   "display_name": "Python 3 (ipykernel)",
   "language": "python",
   "name": "python3"
  },
  "language_info": {
   "codemirror_mode": {
    "name": "ipython",
    "version": 3
   },
   "file_extension": ".py",
   "mimetype": "text/x-python",
   "name": "python",
   "nbconvert_exporter": "python",
   "pygments_lexer": "ipython3",
   "version": "3.9.13"
  }
 },
 "nbformat": 4,
 "nbformat_minor": 5
}

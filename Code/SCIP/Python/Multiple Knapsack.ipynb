{
 "cells": [
  {
   "cell_type": "code",
   "execution_count": 1,
   "id": "5d8339f6",
   "metadata": {},
   "outputs": [],
   "source": [
    "import pyscipopt"
   ]
  },
  {
   "cell_type": "code",
   "execution_count": 2,
   "id": "043bd108",
   "metadata": {},
   "outputs": [],
   "source": [
    "c = [\n",
    "    100, 100, 100, 100, 100\n",
    "]\n",
    "\n",
    "w = [\n",
    "    48, 30, 42, 36, 36, 48, 42, 42, 36, 24, 30, 30, 42, 36, 36\n",
    "]\n",
    "\n",
    "v = [\n",
    "    10, 30, 25, 50, 35, 30, 15, 40, 30, 35, 45, 10, 20, 30, 25\n",
    "]\n",
    "\n",
    "\n",
    "items = len(w)\n",
    "num_sets = len(c)"
   ]
  },
  {
   "cell_type": "code",
   "execution_count": 3,
   "id": "34469634",
   "metadata": {},
   "outputs": [],
   "source": [
    "model = pyscipopt.Model(\"Multiple-Knapsack\")\n",
    "\n",
    "# Create variables\n",
    "x = {}\n",
    "for i in range(items):\n",
    "    for j in range(num_sets):\n",
    "        x[i,j] = model.addVar(lb=0, ub=1, vtype=\"B\", name=\"x(%s,%s)\"%(i,j))\n",
    "\n",
    "# Create objective function\n",
    "model.setObjective(pyscipopt.quicksum(v[i]*x[i,j] for i in range(items) for j in range(num_sets)), sense=\"maximize\")"
   ]
  },
  {
   "cell_type": "code",
   "execution_count": 4,
   "id": "033c5c34",
   "metadata": {},
   "outputs": [],
   "source": [
    "# Create constraints\n",
    "# Assignment constraints\n",
    "for i in range(items):\n",
    "    model.addCons(pyscipopt.quicksum(x[i,j] for j in range(num_sets)) <= 1)\n",
    "\n",
    "# Capacity constraints\n",
    "for j in range(num_sets):\n",
    "    model.addCons(pyscipopt.quicksum(w[i]*x[i,j] for i in range(items)) <= c[j])"
   ]
  },
  {
   "cell_type": "code",
   "execution_count": 5,
   "id": "1d392462",
   "metadata": {},
   "outputs": [
    {
     "name": "stdout",
     "output_type": "stream",
     "text": [
      "wrote problem to file C:\\Users\\t1043\\Multiple Knapsack.lp\n",
      "Solution status: optimal\n",
      "Objective value = 395.0\n",
      "x(0,0) = 0.0\n",
      "x(0,1) = 0.0\n",
      "x(0,2) = 0.0\n",
      "x(0,3) = 0.0\n",
      "x(0,4) = 0.0\n",
      "x(1,0) = 1.0\n",
      "x(1,1) = 0.0\n",
      "x(1,2) = 0.0\n",
      "x(1,3) = 0.0\n",
      "x(1,4) = 0.0\n",
      "x(2,0) = 0.0\n",
      "x(2,1) = 1.0\n",
      "x(2,2) = 0.0\n",
      "x(2,3) = 0.0\n",
      "x(2,4) = 0.0\n",
      "x(3,0) = 0.0\n",
      "x(3,1) = 0.0\n",
      "x(3,2) = 1.0\n",
      "x(3,3) = 0.0\n",
      "x(3,4) = 0.0\n",
      "x(4,0) = 1.0\n",
      "x(4,1) = 0.0\n",
      "x(4,2) = 0.0\n",
      "x(4,3) = 0.0\n",
      "x(4,4) = 0.0\n",
      "x(5,0) = 0.0\n",
      "x(5,1) = 0.0\n",
      "x(5,2) = 0.0\n",
      "x(5,3) = 0.0\n",
      "x(5,4) = 1.0\n",
      "x(6,0) = 0.0\n",
      "x(6,1) = 0.0\n",
      "x(6,2) = 0.0\n",
      "x(6,3) = 0.0\n",
      "x(6,4) = 0.0\n",
      "x(7,0) = 0.0\n",
      "x(7,1) = 0.0\n",
      "x(7,2) = 0.0\n",
      "x(7,3) = 0.0\n",
      "x(7,4) = 1.0\n",
      "x(8,0) = 0.0\n",
      "x(8,1) = 0.0\n",
      "x(8,2) = 1.0\n",
      "x(8,3) = 0.0\n",
      "x(8,4) = 0.0\n",
      "x(9,0) = 0.0\n",
      "x(9,1) = 0.0\n",
      "x(9,2) = 1.0\n",
      "x(9,3) = 0.0\n",
      "x(9,4) = 0.0\n",
      "x(10,0) = 1.0\n",
      "x(10,1) = 0.0\n",
      "x(10,2) = 0.0\n",
      "x(10,3) = 0.0\n",
      "x(10,4) = 0.0\n",
      "x(11,0) = 0.0\n",
      "x(11,1) = 0.0\n",
      "x(11,2) = 0.0\n",
      "x(11,3) = 0.0\n",
      "x(11,4) = 0.0\n",
      "x(12,0) = 0.0\n",
      "x(12,1) = 0.0\n",
      "x(12,2) = 0.0\n",
      "x(12,3) = 1.0\n",
      "x(12,4) = 0.0\n",
      "x(13,0) = 0.0\n",
      "x(13,1) = 0.0\n",
      "x(13,2) = 0.0\n",
      "x(13,3) = 1.0\n",
      "x(13,4) = 0.0\n",
      "x(14,0) = 0.0\n",
      "x(14,1) = 1.0\n",
      "x(14,2) = 0.0\n",
      "x(14,3) = 0.0\n",
      "x(14,4) = 0.0\n"
     ]
    }
   ],
   "source": [
    "model.writeProblem(\"Multiple Knapsack.lp\")\n",
    "model.optimize()\n",
    "status = model.getStatus()\n",
    "print(f\"Solution status: {status}\")\n",
    "if status == \"optimal\":\n",
    "    print(f\"Objective value = {model.getObjVal()}\")\n",
    "    for i in range(items):\n",
    "        for j in range(num_sets):\n",
    "            print(f\"{x[i,j]} = {model.getVal(x[i,j])}\")"
   ]
  }
 ],
 "metadata": {
  "kernelspec": {
   "display_name": "Python 3 (ipykernel)",
   "language": "python",
   "name": "python3"
  },
  "language_info": {
   "codemirror_mode": {
    "name": "ipython",
    "version": 3
   },
   "file_extension": ".py",
   "mimetype": "text/x-python",
   "name": "python",
   "nbconvert_exporter": "python",
   "pygments_lexer": "ipython3",
   "version": "3.9.13"
  }
 },
 "nbformat": 4,
 "nbformat_minor": 5
}

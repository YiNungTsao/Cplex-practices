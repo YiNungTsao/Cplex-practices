{
 "cells": [
  {
   "cell_type": "code",
   "execution_count": 1,
   "id": "0c61c0e8-5603-4eb1-9932-a50c477fab27",
   "metadata": {},
   "outputs": [],
   "source": [
    "import math \n",
    "import random\n",
    "import pyscipopt"
   ]
  },
  {
   "cell_type": "code",
   "execution_count": 2,
   "id": "ed7dd656-1d08-4ce9-afed-3121fd1c5928",
   "metadata": {},
   "outputs": [
    {
     "name": "stdout",
     "output_type": "stream",
     "text": [
      "{(0, 0): 0, (0, 1): 0, (1, 0): 0, (0, 2): 1, (2, 0): 1, (0, 3): 0, (3, 0): 0, (0, 4): 1, (4, 0): 1, (0, 5): 0, (5, 0): 0, (0, 6): 1, (6, 0): 1, (0, 7): 0, (7, 0): 0, (0, 8): 1, (8, 0): 1, (0, 9): 0, (9, 0): 0, (1, 1): 0, (1, 2): 1, (2, 1): 1, (1, 3): 0, (3, 1): 0, (1, 4): 1, (4, 1): 1, (1, 5): 0, (5, 1): 0, (1, 6): 1, (6, 1): 1, (1, 7): 0, (7, 1): 0, (1, 8): 1, (8, 1): 1, (1, 9): 0, (9, 1): 0, (2, 2): 0, (2, 3): 0, (3, 2): 0, (2, 4): 1, (4, 2): 1, (2, 5): 0, (5, 2): 0, (2, 6): 1, (6, 2): 1, (2, 7): 0, (7, 2): 0, (2, 8): 1, (8, 2): 1, (2, 9): 0, (9, 2): 0, (3, 3): 0, (3, 4): 1, (4, 3): 1, (3, 5): 0, (5, 3): 0, (3, 6): 1, (6, 3): 1, (3, 7): 0, (7, 3): 0, (3, 8): 1, (8, 3): 1, (3, 9): 0, (9, 3): 0, (4, 4): 0, (4, 5): 0, (5, 4): 0, (4, 6): 1, (6, 4): 1, (4, 7): 0, (7, 4): 0, (4, 8): 1, (8, 4): 1, (4, 9): 0, (9, 4): 0, (5, 5): 0, (5, 6): 1, (6, 5): 1, (5, 7): 0, (7, 5): 0, (5, 8): 1, (8, 5): 1, (5, 9): 0, (9, 5): 0, (6, 6): 0, (6, 7): 0, (7, 6): 0, (6, 8): 1, (8, 6): 1, (6, 9): 0, (9, 6): 0, (7, 7): 0, (7, 8): 1, (8, 7): 1, (7, 9): 0, (9, 7): 0, (8, 8): 0, (8, 9): 0, (9, 8): 0, (9, 9): 0}\n"
     ]
    }
   ],
   "source": [
    "n = range(10)\n",
    "E = {}\n",
    "for i in n:\n",
    "    for j in n:\n",
    "        if i > j and i%2 == 0:\n",
    "            E[i,j] = 1\n",
    "            E[j,i] = 1\n",
    "        else:\n",
    "            E[i,j] = 0\n",
    "            E[j,i] = 0\n",
    "print(E)"
   ]
  },
  {
   "cell_type": "code",
   "execution_count": 3,
   "id": "ef2af3d0-d460-4907-bb02-27b2174ea053",
   "metadata": {},
   "outputs": [],
   "source": [
    "model = pyscipopt.Model(\"Maximum Clique\")\n",
    "\n",
    "# Create variabbles\n",
    "x = {}\n",
    "for i in n:\n",
    "    x[i] = model.addVar(lb=0, ub=1, vtype=\"B\", name=\"x(%s)\"%i)\n",
    "    \n",
    "# Objective function\n",
    "model.setObjective(pyscipopt.quicksum(x[i] for i in n), sense=\"maximize\")"
   ]
  },
  {
   "cell_type": "code",
   "execution_count": 4,
   "id": "31b45094-8134-4fcf-9039-905d2a0a7d94",
   "metadata": {},
   "outputs": [],
   "source": [
    "# Create constraint 1\n",
    "# x_i + x_j <= 1, for {i,j} not in E\n",
    "for i in n:\n",
    "    for j in n:\n",
    "        if E[i,j] == 0 and i!=j:\n",
    "            model.addCons(x[i]+x[j]<=1)"
   ]
  },
  {
   "cell_type": "code",
   "execution_count": 5,
   "id": "1b705c8d-1b58-432c-90a4-557cebd2f2d8",
   "metadata": {},
   "outputs": [
    {
     "name": "stdout",
     "output_type": "stream",
     "text": [
      "wrote problem to file C:\\Users\\t1043\\maximum_clique.lp\n",
      "optimal\n",
      "x(0) = 1.0\n",
      "x(1) = -0.0\n",
      "x(2) = 1.0\n",
      "x(3) = -0.0\n",
      "x(4) = 1.0\n",
      "x(5) = -0.0\n",
      "x(6) = 1.0\n",
      "x(7) = -0.0\n",
      "x(8) = 1.0\n",
      "x(9) = -0.0\n"
     ]
    }
   ],
   "source": [
    "model.writeProblem(filename=\"maximum_clique.lp\")\n",
    "model.optimize()\n",
    "status = model.getStatus()\n",
    "\n",
    "if status == \"optimal\":\n",
    "    print(status)\n",
    "    for i in n:\n",
    "        print(f\"{x[i]} = {model.getVal(x[i])}\")"
   ]
  }
 ],
 "metadata": {
  "kernelspec": {
   "display_name": "Python 3 (ipykernel)",
   "language": "python",
   "name": "python3"
  },
  "language_info": {
   "codemirror_mode": {
    "name": "ipython",
    "version": 3
   },
   "file_extension": ".py",
   "mimetype": "text/x-python",
   "name": "python",
   "nbconvert_exporter": "python",
   "pygments_lexer": "ipython3",
   "version": "3.9.13"
  }
 },
 "nbformat": 4,
 "nbformat_minor": 5
}
